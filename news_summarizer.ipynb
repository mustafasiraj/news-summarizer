{
  "nbformat": 4,
  "nbformat_minor": 0,
  "metadata": {
    "colab": {
      "provenance": []
    },
    "kernelspec": {
      "name": "python3",
      "display_name": "Python 3"
    },
    "language_info": {
      "name": "python"
    }
  },
  "cells": [
    {
      "cell_type": "code",
      "source": [
        "import requests\n",
        "from bs4 import BeautifulSoup\n",
        "from transformers import pipeline\n",
        "\n",
        "# Step 1: Get article\n",
        "url = \"https://kalingatv.com/entertainment/industrialist-sunjay-kapurs-funeral-in-new-delhi-today-know-why-his-last-rites-were-delayed/\"\n",
        "headers = {'User-Agent': 'Mozilla/5.0'}\n",
        "response = requests.get(url, headers=headers)\n",
        "\n",
        "# Step 2: Extract text\n",
        "soup = BeautifulSoup(response.content, 'html.parser')\n",
        "paragraphs = soup.find_all('p')\n",
        "text = ' '.join([para.get_text() for para in paragraphs])\n",
        "\n",
        "# Step 3: Load summarizer with PyTorch only\n",
        "summarizer = pipeline(\"summarization\", model=\"sshleifer/distilbart-cnn-12-6\", framework=\"pt\")\n",
        "\n",
        "# Step 4: Shorten text if needed\n",
        "text = text[:1024]\n",
        "\n",
        "# Step 5: Get summary\n",
        "summary = summarizer(text, max_length=100, min_length=30, do_sample=False)\n",
        "print(\"Summary:\\n\", summary[0]['summary_text'])\n"
      ],
      "metadata": {
        "id": "UAhCd0cUL_8w"
      },
      "execution_count": null,
      "outputs": []
    },
    {
      "cell_type": "markdown",
      "source": [
        "\n",
        "\"The 13-year-old boy did a fantastic job making this project by himself. We are proud of him.\""
      ],
      "metadata": {
        "id": "-oB8ay-KNbke"
      }
    }
  ]
}